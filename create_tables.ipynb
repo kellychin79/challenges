{
 "cells": [
  {
   "cell_type": "code",
   "execution_count": 2,
   "id": "893b7850",
   "metadata": {},
   "outputs": [],
   "source": [
    "import random"
   ]
  },
  {
   "cell_type": "markdown",
   "id": "cee65338",
   "metadata": {},
   "source": [
    "### Type 1: Arrange the display first by columns and then by rows, so the number increment to the right cell"
   ]
  },
  {
   "attachments": {},
   "cell_type": "markdown",
   "id": "e748268c",
   "metadata": {},
   "source": [
    "<br/>\n",
    "<div>\n",
    "<img src=\"data/by_columns_then_rows.png\" width=\"300\"/>\n",
    "</div>"
   ]
  },
  {
   "cell_type": "markdown",
   "id": "040b3489",
   "metadata": {},
   "source": [
    "<div style=\"display:block\">\n",
    "<div>\n",
    "<img src=\"attachment:image.png\" width=\"400\"/>\n",
    "</div>\n",
    "</div>"
   ]
  },
  {
   "cell_type": "code",
   "execution_count": 28,
   "id": "9eccf906",
   "metadata": {},
   "outputs": [
    {
     "name": "stdout",
     "output_type": "stream",
     "text": [
      "1 | 57% | 2 | 42% | 3 | 57% | 4 | 20% | 5 | 81% \n",
      "6 | 82% | 7 | 65% | 8 | 16% | 9 | 52% | 10 | 32% \n",
      "11 | 24% | 12 | 95% | 13 | 99% | 14 | 4% | 15 | 86% \n",
      "16 | 60% | 17 | 38% | 18 | 28% | 19 | 67% | 20 | 45% \n",
      "21 | 68% | 22 | 66% | 23 | 13% | 24 | 76% | 25 | 98% \n",
      "26 | 96% | 27 | 61% | 28 | 4% | 29 | 0% | 30 | 13% \n",
      "31 | 94% | 32 | 30% | 33 | 36% | 34 | 89% | 35 | 31% \n",
      "36 | 54% | 37 | 43% | 38 | 6% | 39 | 58% | 40 | 84% \n",
      "41 | 15% | 42 | 22% | 43 | 41% | 44 | 3% | 45 | 49% \n",
      "46 | 81% | 47 | 65% | 48 | 53% | 49 | 85% | 50 | 14% \n"
     ]
    }
   ],
   "source": [
    "num_of_rows = 10\n",
    "num_of_cols = 5\n",
    "\n",
    "random.seed(10) \n",
    "values = [int(random.random()*100)for i in range(num_of_rows*num_of_cols)]\n",
    "idx = 0\n",
    "\n",
    "for i in range(num_of_rows):\n",
    "    s = ''\n",
    "    for j in range(1, num_of_cols+1):\n",
    "        location = num_of_cols*i+j\n",
    "        s += str(location)+' | '+str(values[idx])+'% | '\n",
    "        idx += 1\n",
    "    s = s[:-2]\n",
    "    print(s)\n",
    "    "
   ]
  },
  {
   "cell_type": "code",
   "execution_count": 29,
   "id": "1b7ebee2",
   "metadata": {},
   "outputs": [
    {
     "name": "stdout",
     "output_type": "stream",
     "text": [
      "index | value | index | value | index | value | index | value | index | value \n",
      ":---: | :---: | :---: | :---: | :---: | :---: | :---: | :---: | :---: | :---: \n",
      "1 | 57% | 2 | 42% | 3 | 57% | 4 | 20% | 5 | 81% \n",
      "6 | 82% | 7 | 65% | 8 | 16% | 9 | 52% | 10 | 32% \n",
      "11 | 24% | 12 | 95% | 13 | 99% | 14 | 4% | 15 | 86% \n",
      "16 | 60% | 17 | 38% | 18 | 28% | 19 | 67% | 20 | 45% \n",
      "21 | 68% | 22 | 66% | 23 | 13% | 24 | 76% | 25 | 98% \n",
      "26 | 96% | 27 | 61% | 28 | 4% | 29 | 0% | 30 | 13% \n",
      "31 | 94% | 32 | 30% | 33 | 36% | 34 | 89% | 35 | 31% \n",
      "36 | 54% | 37 | 43% | 38 | 6% | 39 | 58% | 40 | 84% \n",
      "41 | 15% | 42 | 22% | 43 | 41% | 44 | 3% | 45 | 49% \n",
      "46 | 81% | 47 | 65% | 48 | 53% | 49 | 85% | 50 | 14% \n"
     ]
    }
   ],
   "source": [
    "# make it a input ready for markdown\n",
    "num_of_rows = 10\n",
    "num_of_cols = 5\n",
    "\n",
    "random.seed(10) \n",
    "values = [int(random.random()*100)for i in range(num_of_rows*num_of_cols)]\n",
    "idx = 0\n",
    "\n",
    "for i in range(num_of_rows):\n",
    "    if i == 0:\n",
    "        header = ''\n",
    "        for j in range(num_of_cols):\n",
    "            header += 'index | value | '\n",
    "        print(header[:-2])\n",
    "        \n",
    "        header_line = ''\n",
    "        for j in range(num_of_cols):\n",
    "            header_line += ':---: | :---: | '\n",
    "        print(header_line[:-2])\n",
    "        \n",
    "    s = ''\n",
    "    for j in range(1, num_of_cols+1):\n",
    "        location = num_of_cols*i+j\n",
    "        s += str(location)+' | '+str(values[idx])+'% | '\n",
    "        idx += 1\n",
    "    s = s[:-2]\n",
    "    print(s)\n",
    "    "
   ]
  },
  {
   "cell_type": "markdown",
   "id": "920b8b34",
   "metadata": {},
   "source": [
    "Let's copy and paste the output directly to markdown cell..."
   ]
  },
  {
   "cell_type": "markdown",
   "id": "33b833dd",
   "metadata": {},
   "source": [
    "index | value | index | value | index | value | index | value | index | value \n",
    ":---: | :---: | :---: | :---: | :---: | :---: | :---: | :---: | :---: | :---: \n",
    "1 | 57% | 2 | 42% | 3 | 57% | 4 | 20% | 5 | 81% \n",
    "6 | 82% | 7 | 65% | 8 | 16% | 9 | 52% | 10 | 32% \n",
    "11 | 24% | 12 | 95% | 13 | 99% | 14 | 4% | 15 | 86% \n",
    "16 | 60% | 17 | 38% | 18 | 28% | 19 | 67% | 20 | 45% \n",
    "21 | 68% | 22 | 66% | 23 | 13% | 24 | 76% | 25 | 98% \n",
    "26 | 96% | 27 | 61% | 28 | 4% | 29 | 0% | 30 | 13% \n",
    "31 | 94% | 32 | 30% | 33 | 36% | 34 | 89% | 35 | 31% \n",
    "36 | 54% | 37 | 43% | 38 | 6% | 39 | 58% | 40 | 84% \n",
    "41 | 15% | 42 | 22% | 43 | 41% | 44 | 3% | 45 | 49% \n",
    "46 | 81% | 47 | 65% | 48 | 53% | 49 | 85% | 50 | 14% "
   ]
  },
  {
   "cell_type": "markdown",
   "id": "07f90384",
   "metadata": {},
   "source": [
    "It worked!"
   ]
  },
  {
   "cell_type": "markdown",
   "id": "bc31f1e7",
   "metadata": {},
   "source": [
    "### Type 2: Arrange the display first by rows and then by columns, so the number increment to the below cell"
   ]
  },
  {
   "attachments": {},
   "cell_type": "markdown",
   "id": "40442ca4",
   "metadata": {},
   "source": [
    "<div>\n",
    "<img src=\"data/by_rows_then_columns.png\" width=\"300\"/>\n",
    "</div>\n",
    "    "
   ]
  },
  {
   "cell_type": "code",
   "execution_count": 31,
   "id": "dd5a5301",
   "metadata": {
    "scrolled": true
   },
   "outputs": [
    {
     "name": "stdout",
     "output_type": "stream",
     "text": [
      "1 | 57% | 11 | 42% | 21 | 57% | 31 | 20% | 41 | 81% \n",
      "2 | 82% | 12 | 65% | 22 | 16% | 32 | 52% | 42 | 32% \n",
      "3 | 24% | 13 | 95% | 23 | 99% | 33 | 4% | 43 | 86% \n",
      "4 | 60% | 14 | 38% | 24 | 28% | 34 | 67% | 44 | 45% \n",
      "5 | 68% | 15 | 66% | 25 | 13% | 35 | 76% | 45 | 98% \n",
      "6 | 96% | 16 | 61% | 26 | 4% | 36 | 0% | 46 | 13% \n",
      "7 | 94% | 17 | 30% | 27 | 36% | 37 | 89% | 47 | 31% \n",
      "8 | 54% | 18 | 43% | 28 | 6% | 38 | 58% | 48 | 84% \n",
      "9 | 15% | 19 | 22% | 29 | 41% | 39 | 3% | 49 | 49% \n",
      "10 | 81% | 20 | 65% | 30 | 53% | 40 | 85% | 50 | 14% \n"
     ]
    }
   ],
   "source": [
    "num_of_rows = 10\n",
    "num_of_cols = 5\n",
    "\n",
    "random.seed(10) \n",
    "values = [int(random.random()*100)for i in range(num_of_rows*num_of_cols)]\n",
    "idx = 0\n",
    "\n",
    "for i in range(1, num_of_rows+1):\n",
    "    s = ''\n",
    "    for j in range(num_of_cols):\n",
    "        location = num_of_rows*j+i\n",
    "        s += str(location)+' | '+str(values[idx])+'% | '\n",
    "        idx += 1\n",
    "    s = s[:-2]\n",
    "    print(s)\n",
    "    "
   ]
  },
  {
   "cell_type": "code",
   "execution_count": 32,
   "id": "6c946422",
   "metadata": {
    "scrolled": true
   },
   "outputs": [
    {
     "name": "stdout",
     "output_type": "stream",
     "text": [
      "index | value | index | value | index | value | index | value | index | value \n",
      ":---: | :---: | :---: | :---: | :---: | :---: | :---: | :---: | :---: | :---: \n",
      "1 | 57% | 11 | 42% | 21 | 57% | 31 | 20% | 41 | 81% \n",
      "2 | 82% | 12 | 65% | 22 | 16% | 32 | 52% | 42 | 32% \n",
      "3 | 24% | 13 | 95% | 23 | 99% | 33 | 4% | 43 | 86% \n",
      "4 | 60% | 14 | 38% | 24 | 28% | 34 | 67% | 44 | 45% \n",
      "5 | 68% | 15 | 66% | 25 | 13% | 35 | 76% | 45 | 98% \n",
      "6 | 96% | 16 | 61% | 26 | 4% | 36 | 0% | 46 | 13% \n",
      "7 | 94% | 17 | 30% | 27 | 36% | 37 | 89% | 47 | 31% \n",
      "8 | 54% | 18 | 43% | 28 | 6% | 38 | 58% | 48 | 84% \n",
      "9 | 15% | 19 | 22% | 29 | 41% | 39 | 3% | 49 | 49% \n",
      "10 | 81% | 20 | 65% | 30 | 53% | 40 | 85% | 50 | 14% \n"
     ]
    }
   ],
   "source": [
    "# make it a input for markdown\n",
    "num_of_rows = 10\n",
    "num_of_cols = 5\n",
    "\n",
    "random.seed(10) \n",
    "values = [int(random.random()*100)for i in range(num_of_rows*num_of_cols)]\n",
    "idx = 0\n",
    "\n",
    "for i in range(1, num_of_rows+1):\n",
    "    if i == 1:\n",
    "        header = ''\n",
    "        for j in range(num_of_cols):\n",
    "            header += 'index | value | '\n",
    "        print(header[:-2])\n",
    "        \n",
    "        header_line = ''\n",
    "        for j in range(num_of_cols):\n",
    "            header_line += ':---: | :---: | '\n",
    "        print(header_line[:-2])\n",
    "        \n",
    "    s = ''\n",
    "    for j in range(num_of_cols):\n",
    "        location = num_of_rows*j+i\n",
    "        s += str(location)+' | '+str(values[idx])+'% | '\n",
    "        idx += 1\n",
    "    s = s[:-2]\n",
    "    print(s)\n",
    "    "
   ]
  },
  {
   "cell_type": "markdown",
   "id": "c556b805",
   "metadata": {},
   "source": [
    "Let's copy and paste the output directly to markdown cell..."
   ]
  },
  {
   "cell_type": "markdown",
   "id": "065c2717",
   "metadata": {},
   "source": [
    "index | value | index | value | index | value | index | value | index | value \n",
    ":---: | :---: | :---: | :---: | :---: | :---: | :---: | :---: | :---: | :---: \n",
    "1 | 57% | 11 | 42% | 21 | 57% | 31 | 20% | 41 | 81% \n",
    "2 | 82% | 12 | 65% | 22 | 16% | 32 | 52% | 42 | 32% \n",
    "3 | 24% | 13 | 95% | 23 | 99% | 33 | 4% | 43 | 86% \n",
    "4 | 60% | 14 | 38% | 24 | 28% | 34 | 67% | 44 | 45% \n",
    "5 | 68% | 15 | 66% | 25 | 13% | 35 | 76% | 45 | 98% \n",
    "6 | 96% | 16 | 61% | 26 | 4% | 36 | 0% | 46 | 13% \n",
    "7 | 94% | 17 | 30% | 27 | 36% | 37 | 89% | 47 | 31% \n",
    "8 | 54% | 18 | 43% | 28 | 6% | 38 | 58% | 48 | 84% \n",
    "9 | 15% | 19 | 22% | 29 | 41% | 39 | 3% | 49 | 49% \n",
    "10 | 81% | 20 | 65% | 30 | 53% | 40 | 85% | 50 | 14% "
   ]
  },
  {
   "cell_type": "markdown",
   "id": "454b52a2",
   "metadata": {},
   "source": [
    "It worked!"
   ]
  }
 ],
 "metadata": {
  "kernelspec": {
   "display_name": "Python 3 (ipykernel)",
   "language": "python",
   "name": "python3"
  },
  "language_info": {
   "codemirror_mode": {
    "name": "ipython",
    "version": 3
   },
   "file_extension": ".py",
   "mimetype": "text/x-python",
   "name": "python",
   "nbconvert_exporter": "python",
   "pygments_lexer": "ipython3",
   "version": "3.10.9"
  }
 },
 "nbformat": 4,
 "nbformat_minor": 5
}
