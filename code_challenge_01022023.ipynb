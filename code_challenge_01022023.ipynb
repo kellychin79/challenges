{
 "cells": [
  {
   "cell_type": "code",
   "execution_count": 86,
   "id": "24e656a6",
   "metadata": {},
   "outputs": [
    {
     "name": "stdout",
     "output_type": "stream",
     "text": [
      "52745\n"
     ]
    }
   ],
   "source": [
    "import random\n",
    "S = str(random.randint(0,100000))\n",
    "print(S)"
   ]
  },
  {
   "cell_type": "code",
   "execution_count": 87,
   "id": "47c4fad5",
   "metadata": {},
   "outputs": [
    {
     "name": "stdout",
     "output_type": "stream",
     "text": [
      "CPU times: user 4 µs, sys: 0 ns, total: 4 µs\n",
      "Wall time: 8.34 µs\n"
     ]
    },
    {
     "data": {
      "text/plain": [
       "18"
      ]
     },
     "execution_count": 87,
     "metadata": {},
     "output_type": "execute_result"
    }
   ],
   "source": [
    "%time\n",
    "def solutions(s):\n",
    "    ans = 0\n",
    "    combinations = []\n",
    "    for i in range(len(s)):\n",
    "        S = [s_i for s_i in s]\n",
    "        for j in range(10):\n",
    "            S[i] = str(j)\n",
    "            comb = int(''.join(S))\n",
    "            if comb % 3 == 0 and comb not in combinations:\n",
    "                ans += 1\n",
    "                combinations.append(comb)\n",
    "    return ans\n",
    "\n",
    "solutions(S)"
   ]
  },
  {
   "cell_type": "code",
   "execution_count": 88,
   "id": "15f2b4b4",
   "metadata": {},
   "outputs": [
    {
     "name": "stdout",
     "output_type": "stream",
     "text": [
      "CPU times: user 3 µs, sys: 0 ns, total: 3 µs\n",
      "Wall time: 6.2 µs\n"
     ]
    },
    {
     "data": {
      "text/plain": [
       "18"
      ]
     },
     "execution_count": 88,
     "metadata": {},
     "output_type": "execute_result"
    }
   ],
   "source": [
    "%time\n",
    "def solutions_2(s):\n",
    "    total = sum([int(i) for i in s])\n",
    "    ans = 0\n",
    "    for i in range(len(s)):\n",
    "        remaining = total - int(s[i])\n",
    "        if remaining % 3 == 0:\n",
    "            ans += 4\n",
    "        else:\n",
    "            ans += 3\n",
    "    if total % 3 == 0:\n",
    "        ans -= (len(s) - 1)\n",
    "    return ans\n",
    "\n",
    "solutions_2(S)"
   ]
  },
  {
   "cell_type": "code",
   "execution_count": null,
   "id": "10135926",
   "metadata": {},
   "outputs": [],
   "source": []
  }
 ],
 "metadata": {
  "kernelspec": {
   "display_name": "Python 3 (ipykernel)",
   "language": "python",
   "name": "python3"
  },
  "language_info": {
   "codemirror_mode": {
    "name": "ipython",
    "version": 3
   },
   "file_extension": ".py",
   "mimetype": "text/x-python",
   "name": "python",
   "nbconvert_exporter": "python",
   "pygments_lexer": "ipython3",
   "version": "3.9.6"
  }
 },
 "nbformat": 4,
 "nbformat_minor": 5
}
