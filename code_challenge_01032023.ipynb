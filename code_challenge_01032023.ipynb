{
 "cells": [
  {
   "cell_type": "code",
   "execution_count": null,
   "id": "8ad5ef2f",
   "metadata": {},
   "outputs": [],
   "source": [
    "# starts from 7:23pm"
   ]
  },
  {
   "cell_type": "code",
   "execution_count": 2,
   "id": "1be4aa67",
   "metadata": {},
   "outputs": [],
   "source": [
    "import numpy as np"
   ]
  },
  {
   "cell_type": "code",
   "execution_count": 8,
   "id": "f5217573",
   "metadata": {},
   "outputs": [
    {
     "data": {
      "text/plain": [
       "5"
      ]
     },
     "execution_count": 8,
     "metadata": {},
     "output_type": "execute_result"
    }
   ],
   "source": [
    "def func_121(prices):\n",
    "    ans = 0\n",
    "    for i in range(len(prices)-1):\n",
    "        max_profit = max(np.array(prices[i+1:]) - prices[i])\n",
    "        if max_profit > ans:\n",
    "            ans = max_profit\n",
    "    return ans\n",
    "            \n",
    "\n",
    "prices = [7,1,5,3,6,4]\n",
    "func_121(prices)"
   ]
  },
  {
   "cell_type": "code",
   "execution_count": 9,
   "id": "9d8b731a",
   "metadata": {},
   "outputs": [
    {
     "data": {
      "text/plain": [
       "0"
      ]
     },
     "execution_count": 9,
     "metadata": {},
     "output_type": "execute_result"
    }
   ],
   "source": [
    "def func_121(prices):\n",
    "    ans = 0\n",
    "    for i in range(len(prices)-1):\n",
    "        max_profit = max(np.array(prices[i+1:]) - prices[i])\n",
    "        if max_profit > ans:\n",
    "            ans = max_profit\n",
    "    return ans\n",
    "            \n",
    "\n",
    "prices = [7,6,4,3,1]\n",
    "func_121(prices)"
   ]
  },
  {
   "cell_type": "code",
   "execution_count": null,
   "id": "fa198a7b",
   "metadata": {},
   "outputs": [],
   "source": [
    "# end at 7:30pm"
   ]
  }
 ],
 "metadata": {
  "kernelspec": {
   "display_name": "Python 3 (ipykernel)",
   "language": "python",
   "name": "python3"
  },
  "language_info": {
   "codemirror_mode": {
    "name": "ipython",
    "version": 3
   },
   "file_extension": ".py",
   "mimetype": "text/x-python",
   "name": "python",
   "nbconvert_exporter": "python",
   "pygments_lexer": "ipython3",
   "version": "3.9.6"
  }
 },
 "nbformat": 4,
 "nbformat_minor": 5
}
