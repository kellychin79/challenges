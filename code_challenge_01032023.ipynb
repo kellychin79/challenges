{
 "cells": [
  {
   "cell_type": "markdown",
   "id": "8b4adfac",
   "metadata": {},
   "source": [
    "## method 1: using library"
   ]
  },
  {
   "cell_type": "code",
   "execution_count": 2,
   "id": "6fa1b330",
   "metadata": {},
   "outputs": [],
   "source": [
    "import numpy as np"
   ]
  },
  {
   "cell_type": "code",
   "execution_count": 8,
   "id": "7f6ed0bd",
   "metadata": {},
   "outputs": [
    {
     "data": {
      "text/plain": [
       "5"
      ]
     },
     "execution_count": 8,
     "metadata": {},
     "output_type": "execute_result"
    }
   ],
   "source": [
    "def func_121(prices):\n",
    "    ans = 0\n",
    "    for i in range(len(prices)-1):\n",
    "        max_profit = max(np.array(prices[i+1:]) - prices[i])\n",
    "        if max_profit > ans:\n",
    "            ans = max_profit\n",
    "    return ans\n",
    "            \n",
    "\n",
    "prices = [7,1,5,3,6,4]\n",
    "func_121(prices)"
   ]
  },
  {
   "cell_type": "code",
   "execution_count": 9,
   "id": "8511d6dd",
   "metadata": {},
   "outputs": [
    {
     "data": {
      "text/plain": [
       "0"
      ]
     },
     "execution_count": 9,
     "metadata": {},
     "output_type": "execute_result"
    }
   ],
   "source": [
    "prices = [7,6,4,3,1]\n",
    "func_121(prices)"
   ]
  },
  {
   "cell_type": "markdown",
   "id": "f337dd30",
   "metadata": {},
   "source": [
    "## method 2: no library"
   ]
  },
  {
   "cell_type": "code",
   "execution_count": 16,
   "id": "b1a68e5f",
   "metadata": {},
   "outputs": [
    {
     "data": {
      "text/plain": [
       "5"
      ]
     },
     "execution_count": 16,
     "metadata": {},
     "output_type": "execute_result"
    }
   ],
   "source": [
    "def func_121_v2(prices):\n",
    "    ans = 0\n",
    "    for i in range(len(prices)-1):\n",
    "        max_profit = max(prices[i+1:]) - prices[i]\n",
    "        if max_profit > ans:\n",
    "            ans = max_profit\n",
    "    return ans\n",
    "            \n",
    "\n",
    "prices = [7,1,5,3,6,4]\n",
    "func_121_v2(prices)"
   ]
  },
  {
   "cell_type": "code",
   "execution_count": 17,
   "id": "e790f37c",
   "metadata": {},
   "outputs": [
    {
     "data": {
      "text/plain": [
       "0"
      ]
     },
     "execution_count": 17,
     "metadata": {},
     "output_type": "execute_result"
    }
   ],
   "source": [
    "prices = [7,6,4,3,1]\n",
    "func_121(prices)"
   ]
  },
  {
   "cell_type": "code",
   "execution_count": null,
   "id": "d97b8723",
   "metadata": {},
   "outputs": [],
   "source": []
  }
 ],
 "metadata": {
  "kernelspec": {
   "display_name": "Python 3 (ipykernel)",
   "language": "python",
   "name": "python3"
  },
  "language_info": {
   "codemirror_mode": {
    "name": "ipython",
    "version": 3
   },
   "file_extension": ".py",
   "mimetype": "text/x-python",
   "name": "python",
   "nbconvert_exporter": "python",
   "pygments_lexer": "ipython3",
   "version": "3.9.6"
  }
 },
 "nbformat": 4,
 "nbformat_minor": 5
}
